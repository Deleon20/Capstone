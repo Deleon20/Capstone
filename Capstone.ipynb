{
 "cells": [
  {
   "cell_type": "code",
   "execution_count": 10,
   "id": "f6130778",
   "metadata": {},
   "outputs": [
    {
     "name": "stdout",
     "output_type": "stream",
     "text": [
      "{'url': 'https://twitter.com/ShashiRajbhar6/status/1376739399593910273', 'date': '2021-03-30T03:33:46+00:00', 'content': 'Support 👇\\n\\n#FarmersProtest', 'renderedContent': 'Support 👇\\n\\n#FarmersProtest', 'id': 1376739399593910273, 'user': {'username': 'ShashiRajbhar6', 'displayname': 'Shashi Rajbhar', 'id': 1015969769760096256, 'description': \"Satya presan 🤔ho Sakta but prajit💪 nhi\\njhuth se samjhauta kbhi nhi\\nJai Shree Ram 🕉 🙏🕉 followed by hon'ble @ArunrajbharSbsp\", 'rawDescription': \"Satya presan 🤔ho Sakta but prajit💪 nhi\\njhuth se samjhauta kbhi nhi\\nJai Shree Ram 🕉 🙏🕉 followed by hon'ble @ArunrajbharSbsp\", 'descriptionUrls': [], 'verified': False, 'created': '2018-07-08T14:44:03+00:00', 'followersCount': 1788, 'friendsCount': 1576, 'statusesCount': 14396, 'favouritesCount': 26071, 'listedCount': 1, 'mediaCount': 254, 'location': 'Azm Uttar Pradesh, India', 'protected': False, 'linkUrl': None, 'linkTcourl': None, 'profileImageUrl': 'https://pbs.twimg.com/profile_images/1354331299868237825/eDzdhZTD_normal.jpg', 'profileBannerUrl': 'https://pbs.twimg.com/profile_banners/1015969769760096256/1613727783', 'url': 'https://twitter.com/ShashiRajbhar6'}, 'outlinks': [], 'tcooutlinks': [], 'replyCount': 0, 'retweetCount': 0, 'likeCount': 0, 'quoteCount': 0, 'conversationId': 1376739399593910273, 'lang': 'en', 'source': '<a href=\"http://twitter.com/download/android\" rel=\"nofollow\">Twitter for Android</a>', 'sourceUrl': 'http://twitter.com/download/android', 'sourceLabel': 'Twitter for Android', 'media': None, 'retweetedTweet': None, 'quotedTweet': None, 'mentionedUsers': None}\n"
     ]
    }
   ],
   "source": [
    "import json \n",
    "import re \n",
    "\n",
    "\n",
    "\n",
    "tweets =[]\n",
    "for line in  open('Datasets/farmers-protest-tweets-2021-03-5.json', 'r'):\n",
    "\n",
    "    tweets.append(json.loads(line))\n",
    "\n",
    "print(tweets[0])"
   ]
  },
  {
   "cell_type": "code",
   "execution_count": 27,
   "id": "b8b2e969",
   "metadata": {},
   "outputs": [
    {
     "name": "stdout",
     "output_type": "stream",
     "text": [
      "                                                      url  retweetCount\n",
      "408128  https://twitter.com/rihanna/status/13566258896...        315547\n",
      "395142  https://twitter.com/GretaThunberg/status/13566...        103957\n",
      "266196  https://twitter.com/GretaThunberg/status/13572...         67694\n",
      "366579  https://twitter.com/miakhalifa/status/13568483...         35921\n",
      "372793  https://twitter.com/miakhalifa/status/13568277...         26972\n",
      "314192  https://twitter.com/TeamJuJu/status/1357048037...         23251\n",
      "215034  https://twitter.com/BobBlackman/status/1357755...         20132\n",
      "398011  https://twitter.com/vanessa_vash/status/135668...         18744\n",
      "325261  https://twitter.com/kylekuzma/status/135700972...         17368\n",
      "163689  https://twitter.com/AmandaCerny/status/1359013...         15677\n"
     ]
    }
   ],
   "source": [
    "from pandas import json_normalize\n",
    "#https://www.geeksforgeeks.org/read-json-file-using-python/\n",
    "df = json_normalize(tweets)\n",
    "\n",
    "print(df.nlargest(10, 'retweetCount')[['url','retweetCount']])\n",
    "#df=df.sort_values(['retweetCount'], ascending=False)\n"
   ]
  },
  {
   "cell_type": "code",
   "execution_count": null,
   "id": "f249a73f",
   "metadata": {},
   "outputs": [],
   "source": []
  }
 ],
 "metadata": {
  "kernelspec": {
   "display_name": "Python 3",
   "language": "python",
   "name": "python3"
  },
  "language_info": {
   "codemirror_mode": {
    "name": "ipython",
    "version": 3
   },
   "file_extension": ".py",
   "mimetype": "text/x-python",
   "name": "python",
   "nbconvert_exporter": "python",
   "pygments_lexer": "ipython3",
   "version": "3.9.4"
  }
 },
 "nbformat": 4,
 "nbformat_minor": 5
}
