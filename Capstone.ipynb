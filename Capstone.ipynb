{
 "cells": [
  {
   "cell_type": "code",
   "execution_count": null,
   "id": "4741ac40",
   "metadata": {},
   "outputs": [
    {
     "name": "stdout",
     "output_type": "stream",
     "text": [
      "Loading assets...\n",
      "Que metrica quiere visualizar? \n",
      " 1) top10Retweets\n",
      " 2) top 10 Users mas tweeteros\n",
      " 3) top 10 fechas con mas tweets \n",
      " 4) top hashtags\n",
      "1\n",
      "                                                      url  retweetCount\n",
      "408128  https://twitter.com/rihanna/status/13566258896...        315547\n",
      "395142  https://twitter.com/GretaThunberg/status/13566...        103957\n",
      "266196  https://twitter.com/GretaThunberg/status/13572...         67694\n",
      "366579  https://twitter.com/miakhalifa/status/13568483...         35921\n",
      "372793  https://twitter.com/miakhalifa/status/13568277...         26972\n",
      "314192  https://twitter.com/TeamJuJu/status/1357048037...         23251\n",
      "215034  https://twitter.com/BobBlackman/status/1357755...         20132\n",
      "398011  https://twitter.com/vanessa_vash/status/135668...         18744\n",
      "325261  https://twitter.com/kylekuzma/status/135700972...         17368\n",
      "163689  https://twitter.com/AmandaCerny/status/1359013...         15677\n"
     ]
    }
   ],
   "source": [
    "import json \n",
    "import re \n",
    "from pandas import json_normalize, to_datetime\n",
    "#https://www.geeksforgeeks.org/read-json-file-using-python/\n",
    "from collections import Counter\n",
    "\n",
    "\n",
    "def top10Retweets(tweets):\n",
    "    \n",
    "    df = json_normalize(tweets)\n",
    "\n",
    "    print(df.nlargest(10, 'retweetCount')[['url','retweetCount']])\n",
    "\n",
    "def top10Users(users):\n",
    "    df = json_normalize(users)\n",
    "    df=df.groupby('username').agg({'statusesCount':'max'}).reset_index()\n",
    "    print (df.reset_index().sort_values(['statusesCount'],ascending=False).head(10))\n",
    "    #print(df.groupby('username')['statusesCount'].nlargest(5))    \n",
    "\n",
    "def top10dates(tweets):\n",
    "    df = json_normalize(tweets)\n",
    "    s = to_datetime(df['date'])\n",
    "    df = s.groupby(s.dt.floor('d')).size().reset_index(name='count')\n",
    "    print(df.sort_values(['count'],ascending=False).head(10))\n",
    "    #print(df.groupby('username')['statusesCount'].nlargest(5))\n",
    "    \n",
    "\n",
    "\n",
    "\n",
    "def top10hashtags(text):\n",
    "    hash_counts = Counter(re.findall(r'#([a-z0-9]+)', ' '.join(text), re.I))\n",
    "    for hashtag in sorted(hash_counts, key=hash_counts.get, reverse=True)[:10]:\n",
    "        print(f\"{hashtag}: {hash_counts[hashtag]} \")\n",
    "def main():\n",
    "    tweets =[]\n",
    "    users =[]\n",
    "    text = []\n",
    "    print(\"Loading assets...\")\n",
    "    for line in  open('Datasets/farmers-protest-tweets-2021-03-5.json', 'r'):\n",
    "        tweets.append(json.loads(line))\n",
    "\n",
    "    for tweet in tweets:\n",
    "        users.append(tweet['user'])\n",
    "\n",
    "    for tweet in tweets:\n",
    "        text.append(tweet['content'])\n",
    "    \n",
    "    while True:\n",
    "        user_input = input(\"Que metrica quiere visualizar? \\n 1) top10Retweets\\n 2) top 10 Users mas tweeteros\\n 3) top 10 fechas con mas tweets \\n 4) top hashtags\\n\")\n",
    "        if user_input == \"1\": \n",
    "            top10Retweets(tweets)\n",
    "        if user_input == \"2\": \n",
    "            top10Users(users)\n",
    "        \n",
    "        if user_input == \"3\": \n",
    "            top10dates(tweets)\n",
    "        if user_input == \"4\": \n",
    "            top10hashtags(text)\n",
    "            \n",
    "main()    "
   ]
  }
 ],
 "metadata": {
  "kernelspec": {
   "display_name": "Python 3",
   "language": "python",
   "name": "python3"
  },
  "language_info": {
   "codemirror_mode": {
    "name": "ipython",
    "version": 3
   },
   "file_extension": ".py",
   "mimetype": "text/x-python",
   "name": "python",
   "nbconvert_exporter": "python",
   "pygments_lexer": "ipython3",
   "version": "3.9.4"
  }
 },
 "nbformat": 4,
 "nbformat_minor": 5
}
