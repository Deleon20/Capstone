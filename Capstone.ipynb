{
 "cells": [
  {
   "cell_type": "code",
   "execution_count": 71,
   "id": "f6130778",
   "metadata": {},
   "outputs": [
    {
     "name": "stdout",
     "output_type": "stream",
     "text": [
      "{'url': 'https://twitter.com/ShashiRajbhar6/status/1376739399593910273', 'date': '2021-03-30T03:33:46+00:00', 'content': 'Support 👇\\n\\n#FarmersProtest', 'renderedContent': 'Support 👇\\n\\n#FarmersProtest', 'id': 1376739399593910273, 'user': {'username': 'ShashiRajbhar6', 'displayname': 'Shashi Rajbhar', 'id': 1015969769760096256, 'description': \"Satya presan 🤔ho Sakta but prajit💪 nhi\\njhuth se samjhauta kbhi nhi\\nJai Shree Ram 🕉 🙏🕉 followed by hon'ble @ArunrajbharSbsp\", 'rawDescription': \"Satya presan 🤔ho Sakta but prajit💪 nhi\\njhuth se samjhauta kbhi nhi\\nJai Shree Ram 🕉 🙏🕉 followed by hon'ble @ArunrajbharSbsp\", 'descriptionUrls': [], 'verified': False, 'created': '2018-07-08T14:44:03+00:00', 'followersCount': 1788, 'friendsCount': 1576, 'statusesCount': 14396, 'favouritesCount': 26071, 'listedCount': 1, 'mediaCount': 254, 'location': 'Azm Uttar Pradesh, India', 'protected': False, 'linkUrl': None, 'linkTcourl': None, 'profileImageUrl': 'https://pbs.twimg.com/profile_images/1354331299868237825/eDzdhZTD_normal.jpg', 'profileBannerUrl': 'https://pbs.twimg.com/profile_banners/1015969769760096256/1613727783', 'url': 'https://twitter.com/ShashiRajbhar6'}, 'outlinks': [], 'tcooutlinks': [], 'replyCount': 0, 'retweetCount': 0, 'likeCount': 0, 'quoteCount': 0, 'conversationId': 1376739399593910273, 'lang': 'en', 'source': '<a href=\"http://twitter.com/download/android\" rel=\"nofollow\">Twitter for Android</a>', 'sourceUrl': 'http://twitter.com/download/android', 'sourceLabel': 'Twitter for Android', 'media': None, 'retweetedTweet': None, 'quotedTweet': None, 'mentionedUsers': None}\n",
      "{'username': 'ShashiRajbhar6', 'displayname': 'Shashi Rajbhar', 'id': 1015969769760096256, 'description': \"Satya presan 🤔ho Sakta but prajit💪 nhi\\njhuth se samjhauta kbhi nhi\\nJai Shree Ram 🕉 🙏🕉 followed by hon'ble @ArunrajbharSbsp\", 'rawDescription': \"Satya presan 🤔ho Sakta but prajit💪 nhi\\njhuth se samjhauta kbhi nhi\\nJai Shree Ram 🕉 🙏🕉 followed by hon'ble @ArunrajbharSbsp\", 'descriptionUrls': [], 'verified': False, 'created': '2018-07-08T14:44:03+00:00', 'followersCount': 1788, 'friendsCount': 1576, 'statusesCount': 14396, 'favouritesCount': 26071, 'listedCount': 1, 'mediaCount': 254, 'location': 'Azm Uttar Pradesh, India', 'protected': False, 'linkUrl': None, 'linkTcourl': None, 'profileImageUrl': 'https://pbs.twimg.com/profile_images/1354331299868237825/eDzdhZTD_normal.jpg', 'profileBannerUrl': 'https://pbs.twimg.com/profile_banners/1015969769760096256/1613727783', 'url': 'https://twitter.com/ShashiRajbhar6'}\n"
     ]
    }
   ],
   "source": [
    "import json \n",
    "import re \n",
    "\n",
    "\n",
    "\n",
    "tweets =[]\n",
    "users =[]\n",
    "\n",
    "for line in  open('Datasets/farmers-protest-tweets-2021-03-5.json', 'r'):\n",
    "\n",
    "    tweets.append(json.loads(line))\n",
    "    \n",
    "for tweet in tweets:\n",
    "    users.append(tweet['user'])\n",
    "\n",
    "print(tweets[0])\n",
    "print(users[0])"
   ]
  },
  {
   "cell_type": "code",
   "execution_count": 43,
   "id": "2e3d0ed9",
   "metadata": {},
   "outputs": [
    {
     "name": "stdout",
     "output_type": "stream",
     "text": [
      "                                                      url  retweetCount\n",
      "104307  https://twitter.com/rihanna/status/13566258896...        315547\n",
      "109552  https://twitter.com/GretaThunberg/status/13566...        103957\n",
      "109550  https://twitter.com/GretaThunberg/status/13572...         67694\n",
      "54479   https://twitter.com/miakhalifa/status/13568483...         35921\n",
      "54480   https://twitter.com/miakhalifa/status/13568277...         26972\n",
      "197434  https://twitter.com/TeamJuJu/status/1357048037...         23251\n",
      "38965   https://twitter.com/BobBlackman/status/1357755...         20132\n",
      "84599   https://twitter.com/vanessa_vash/status/135668...         18744\n",
      "78967   https://twitter.com/kylekuzma/status/135700972...         17368\n",
      "150822  https://twitter.com/AmandaCerny/status/1359013...         15677\n"
     ]
    }
   ],
   "source": [
    "from pandas import json_normalize\n",
    "#https://www.geeksforgeeks.org/read-json-file-using-python/\n",
    "\n",
    "\n",
    "def top10Retweets(df):\n",
    "    \n",
    "    df = json_normalize(tweets)\n",
    "\n",
    "    print(df.nlargest(10, 'retweetCount')[['url','retweetCount']])\n",
    "\n",
    "top10Retweets(tweets)\n"
   ]
  },
  {
   "cell_type": "code",
   "execution_count": 81,
   "id": "e7990a97",
   "metadata": {},
   "outputs": [
    {
     "name": "stdout",
     "output_type": "stream",
     "text": [
      "       index         username  statusesCount\n",
      "90454  90454  threadreaderapp        1762461\n",
      "14856  14856  GeorgekurianINC        1711890\n",
      "10385  10385   CyberAnonymous        1435641\n",
      "91122  91122      unbiased100        1027493\n",
      "78982  78982      pavan_sethi        1015822\n",
      "55400  55400      animesh1977         974774\n",
      "9312    9312     CNBCTV18Live         944150\n",
      "65574  65574         htTweets         867974\n",
      "9316    9316        CNNnews18         863754\n",
      "20311  20311       IndiaToday         851154\n"
     ]
    }
   ],
   "source": [
    "def top10Users(users):\n",
    "    df = json_normalize(users)\n",
    "    df=df.groupby('username').agg({'statusesCount':'max'}).reset_index()\n",
    "    print (df.reset_index().sort_values(['statusesCount'],ascending=False).head(10))\n",
    "    #print(df.groupby('username')['statusesCount'].nlargest(5))\n",
    "\n",
    "top10Users(users)"
   ]
  }
 ],
 "metadata": {
  "kernelspec": {
   "display_name": "Python 3",
   "language": "python",
   "name": "python3"
  },
  "language_info": {
   "codemirror_mode": {
    "name": "ipython",
    "version": 3
   },
   "file_extension": ".py",
   "mimetype": "text/x-python",
   "name": "python",
   "nbconvert_exporter": "python",
   "pygments_lexer": "ipython3",
   "version": "3.9.4"
  }
 },
 "nbformat": 4,
 "nbformat_minor": 5
}
