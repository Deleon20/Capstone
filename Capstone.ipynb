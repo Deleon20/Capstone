{
 "cells": [
  {
   "cell_type": "code",
   "execution_count": null,
   "id": "f6130778",
   "metadata": {},
   "outputs": [],
   "source": []
  },
  {
   "cell_type": "code",
   "execution_count": 9,
   "id": "2e3d0ed9",
   "metadata": {},
   "outputs": [],
   "source": [
    "from pandas import json_normalize, to_datetime\n",
    "#https://www.geeksforgeeks.org/read-json-file-using-python/\n",
    "\n",
    "\n",
    "def top10Retweets(tweets):\n",
    "    \n",
    "    df = json_normalize(tweets)\n",
    "\n",
    "    print(df.nlargest(10, 'retweetCount')[['url','retweetCount']])\n",
    "\n"
   ]
  },
  {
   "cell_type": "code",
   "execution_count": 3,
   "id": "e7990a97",
   "metadata": {},
   "outputs": [],
   "source": [
    "def top10Users(users):\n",
    "    df = json_normalize(users)\n",
    "    df=df.groupby('username').agg({'statusesCount':'max'}).reset_index()\n",
    "    print (df.reset_index().sort_values(['statusesCount'],ascending=False).head(10))\n",
    "    #print(df.groupby('username')['statusesCount'].nlargest(5))\n"
   ]
  },
  {
   "cell_type": "code",
   "execution_count": 4,
   "id": "27c3e633",
   "metadata": {},
   "outputs": [],
   "source": [
    "def top10dates(tweets):\n",
    "    df = json_normalize(tweets)\n",
    "    s = to_datetime(df['date'])\n",
    "    df = s.groupby(s.dt.floor('d')).size().reset_index(name='count')\n",
    "    print(df.sort_values(['count'],ascending=False).head(10))\n",
    "    #print(df.groupby('username')['statusesCount'].nlargest(5))\n"
   ]
  },
  {
   "cell_type": "code",
   "execution_count": 5,
   "id": "1647c86a",
   "metadata": {},
   "outputs": [],
   "source": [
    "\n",
    "   \n",
    "    \n"
   ]
  },
  {
   "cell_type": "code",
   "execution_count": null,
   "id": "4741ac40",
   "metadata": {},
   "outputs": [],
   "source": [
    "import json \n",
    "import re \n",
    "from pandas import json_normalize, to_datetime\n",
    "#https://www.geeksforgeeks.org/read-json-file-using-python/\n",
    "\n",
    "\n",
    "def top10Retweets(tweets):\n",
    "    \n",
    "    df = json_normalize(tweets)\n",
    "\n",
    "    print(df.nlargest(10, 'retweetCount')[['url','retweetCount']])\n",
    "\n",
    "def top10Users(users):\n",
    "    df = json_normalize(users)\n",
    "    df=df.groupby('username').agg({'statusesCount':'max'}).reset_index()\n",
    "    print (df.reset_index().sort_values(['statusesCount'],ascending=False).head(10))\n",
    "    #print(df.groupby('username')['statusesCount'].nlargest(5))    \n",
    "\n",
    "def top10dates(tweets):\n",
    "    df = json_normalize(tweets)\n",
    "    s = to_datetime(df['date'])\n",
    "    df = s.groupby(s.dt.floor('d')).size().reset_index(name='count')\n",
    "    print(df.sort_values(['count'],ascending=False).head(10))\n",
    "    #print(df.groupby('username')['statusesCount'].nlargest(5))\n",
    "    \n",
    "from collections import Counter\n",
    "import re\n",
    "\n",
    "\n",
    "def top10hashtags(text):\n",
    "    hash_counts = Counter(re.findall(r'#([a-z0-9]+)', ' '.join(text), re.I))\n",
    "    for hashtag in sorted(hash_counts, key=hash_counts.get, reverse=True)[:10]:\n",
    "        print(f\"{hashtag}: {hash_counts[hashtag]} \")\n",
    "def main():\n",
    "    tweets =[]\n",
    "    users =[]\n",
    "    text = []\n",
    "    print(\"Loading assets...\")\n",
    "    for line in  open('Datasets/farmers-protest-tweets-2021-03-5.json', 'r'):\n",
    "        tweets.append(json.loads(line))\n",
    "\n",
    "    for tweet in tweets:\n",
    "        users.append(tweet['user'])\n",
    "\n",
    "    for tweet in tweets:\n",
    "        text.append(tweet['content'])\n",
    "    \n",
    "    while True:\n",
    "        user_input = input(\"Que metrica quiere visualizar? \\n 1) top10Retweets\\n 2) top 10 Users mas tweeteros\\n 3) top 10 fechas con mas tweets \\n 4) top hashtags\\n\")\n",
    "        if user_input == \"1\": \n",
    "            top10Retweets(tweets)\n",
    "        if user_input == \"2\": \n",
    "            top10Users(users)\n",
    "        \n",
    "        if user_input == \"3\": \n",
    "            top10dates(tweets)\n",
    "        if user_input == \"4\": \n",
    "            top10hashtags(text)\n",
    "            \n",
    "main()    "
   ]
  }
 ],
 "metadata": {
  "kernelspec": {
   "display_name": "Python 3",
   "language": "python",
   "name": "python3"
  },
  "language_info": {
   "codemirror_mode": {
    "name": "ipython",
    "version": 3
   },
   "file_extension": ".py",
   "mimetype": "text/x-python",
   "name": "python",
   "nbconvert_exporter": "python",
   "pygments_lexer": "ipython3",
   "version": "3.9.4"
  }
 },
 "nbformat": 4,
 "nbformat_minor": 5
}
